{
  "nbformat": 4,
  "nbformat_minor": 0,
  "metadata": {
    "colab": {
      "provenance": []
    },
    "kernelspec": {
      "name": "python3",
      "display_name": "Python 3"
    },
    "language_info": {
      "name": "python"
    }
  },
  "cells": [
    {
      "cell_type": "markdown",
      "source": [
        "# **PCA and LDA on Fischer Faces Dataset**\n",
        "\n",
        "Performed Principal Component Analysis (PCA) to reduce the dimensionality from **10201** to **K** for high-dimensional data, and then performed Linear Discriminant Analysis (LDA) to **further** reduce it to one dimension.\n",
        "\n",
        "## **Libraries Used**\n",
        "- **NumPy** - for numerical computations such as `eig()`, and `dot()` operations.\n",
        "- **Pillow** - to read the `.gif` file.\n",
        "- **Matplotlib** - to plot the graph.\n",
        "- **tarfile** - to extract files\n",
        "-**OS** - to make directories\n",
        "\n",
        "\n"
      ],
      "metadata": {
        "id": "xv4l3pQfrZB4"
      }
    },
    {
      "cell_type": "code",
      "execution_count": null,
      "metadata": {
        "id": "Zycq8rC-sxUs"
      },
      "outputs": [],
      "source": [
        "#imports\n",
        "import numpy as np\n",
        "import matplotlib.pyplot as plt\n",
        "from PIL import Image\n",
        "import tarfile\n",
        "import os\n",
        "\n",
        "\n",
        "\n",
        "\n",
        "\n",
        "\n"
      ]
    },
    {
      "cell_type": "code",
      "source": [
        "#extracting files\n",
        "\n",
        "\n",
        "tar_gz_file = '/content/drive/MyDrive/MLSP_assignment/Data.tar.gz'\n",
        "\n",
        "\n",
        "with tarfile.open(tar_gz_file, 'r:gz') as tar:\n",
        "    tar.extractall('extracted_files')\n",
        "\n",
        "print(\"Extracted files:\")\n",
        "!ls extracted_files\n"
      ],
      "metadata": {
        "colab": {
          "base_uri": "https://localhost:8080/"
        },
        "id": "f5CM2AT2uIjP",
        "outputId": "d1132a48-d161-46f7-99e7-42ab919649f3"
      },
      "execution_count": null,
      "outputs": [
        {
          "output_type": "stream",
          "name": "stdout",
          "text": [
            "Extracted files:\n",
            "Data\n"
          ]
        }
      ]
    },
    {
      "cell_type": "code",
      "source": [
        "\n",
        "\n",
        "\n",
        "image_dir_train = '/content/extracted_files/Data/emotion_classification/train'\n",
        "image_dir_test = '/content/extracted_files/Data/emotion_classification/test'\n",
        "\n",
        "\n",
        "image_files_train = os.listdir(image_dir_train)\n",
        "image_files_test = os.listdir(image_dir_test)\n",
        "y_train=[]\n",
        "y_test=[]\n",
        "for i in image_files_train:\n",
        "  label = i.split('.')[1]\n",
        "  if label == 'happy':\n",
        "\n",
        "\n",
        "    y_train.append(1)\n",
        "  elif label == 'sad':\n",
        "\n",
        "    y_train.append(0)\n",
        "y_train = np.array(y_train)\n",
        "\n",
        "\n",
        "\n",
        "\n",
        "for i in image_files_test:\n",
        "  label = i.split('.')[1]\n",
        "  if label == 'happy':\n",
        "\n",
        "\n",
        "    y_test.append(1)\n",
        "  elif label == 'sad':\n",
        "\n",
        "    y_test.append(0)\n",
        "y_test = np.array(y_test)\n",
        "\n",
        "\n",
        "\n",
        "\n",
        "\n",
        "\n"
      ],
      "metadata": {
        "id": "Lm1NEAPju07h"
      },
      "execution_count": null,
      "outputs": []
    },
    {
      "cell_type": "code",
      "source": [
        "\n",
        "\n",
        "\n",
        "\n",
        "image_files_train = [f for f in os.listdir(image_dir_train) if f.endswith('.gif')]\n",
        "image_files_test = [f for f in os.listdir(image_dir_test) if f.endswith('.gif')]\n",
        "\n",
        "\n",
        "image_train = []\n",
        "for img_file in image_files_train:\n",
        "    img_path = os.path.join(image_dir_train, img_file)\n",
        "    img = Image.open(img_path)\n",
        "    image_train.append(np.array(img))\n",
        "image_test=[]\n",
        "for img_file in image_files_test:\n",
        "    img_path = os.path.join(image_dir_test, img_file)\n",
        "    img = Image.open(img_path)\n",
        "    image_test.append(np.array(img))\n",
        "\n",
        "\n",
        "\n"
      ],
      "metadata": {
        "id": "2_v95Skf8IA3"
      },
      "execution_count": null,
      "outputs": []
    },
    {
      "cell_type": "code",
      "source": [
        "for i in range(len(image_train)):\n",
        "  image_train[i] = image_train[i].flatten()\n",
        "X_train=np.vstack(image_train)\n",
        "for i in range(len(image_test)):\n",
        "  image_test[i] = image_test[i].flatten()\n",
        "X_test=np.vstack(image_test)\n",
        "\n",
        "print(X_train.shape)\n",
        "print(X_test.shape)\n",
        "\n",
        "\n",
        "\n",
        "\n",
        "\n",
        "\n",
        "\n",
        "\n",
        "\n"
      ],
      "metadata": {
        "id": "xyuJoJtHMNZG",
        "colab": {
          "base_uri": "https://localhost:8080/"
        },
        "outputId": "f6b98908-5622-4f6c-baa4-0aaf10f7f586"
      },
      "execution_count": null,
      "outputs": [
        {
          "output_type": "stream",
          "name": "stdout",
          "text": [
            "(20, 10201)\n",
            "(10, 10201)\n"
          ]
        }
      ]
    },
    {
      "cell_type": "code",
      "source": [
        "\n",
        "def PCA(x,n_components_pca):\n",
        "  mean=np.mean(X_train,axis=0)\n",
        "  x_centered=X_train-mean\n",
        "  cov_mat=np.dot(x_centered,x_centered.T)/x_centered.shape[0]\n",
        "  eig_val,eig_vec=np.linalg.eig(cov_mat)\n",
        "  sorted_indices = np.argsort(eig_val)[::-1]\n",
        "  sorted_eig_val = eig_val[sorted_indices]\n",
        "  sorted_eig_vec = eig_vec[:, sorted_indices]\n",
        "  evec=sorted_eig_vec[:,:n_components_pca]\n",
        "  evec_org=np.dot(x_centered.T,evec)\n",
        "  for i in range (evec.shape[1]):\n",
        "    evec_org[:,i]=evec_org[:,i]/np.sqrt(evec.shape[0]*sorted_eig_val[i])\n",
        "  x_reduced=np.dot(evec_org.T,(x-mean).T)\n",
        "  return x_reduced\n"
      ],
      "metadata": {
        "id": "xh1gvovvtgDO"
      },
      "execution_count": null,
      "outputs": []
    },
    {
      "cell_type": "code",
      "source": [
        "def LDA(x,n_components,x_train,y_train):\n",
        "  m0_x=0\n",
        "  m1_x=0\n",
        "  for i in range(len(y_train)):\n",
        "    if y_train[i]==1:\n",
        "      m1_x+=x_train[:,i]\n",
        "    else:\n",
        "      m0_x+=x_train[:,i]\n",
        "  m0_x=m0_x/len(y_train[y_train==0])\n",
        "  m1_x=m1_x/len(y_train[y_train==1])\n",
        "  S_B=np.outer(m1_x-m0_x,m1_x-m0_x)\n",
        "  S_W=0\n",
        "  for i in range(len(y_train)):\n",
        "    if y_train[i]==1:\n",
        "      S_W+=np.outer(x_train[:,i]-m1_x,x_train[:,i]-m1_x)\n",
        "    else:\n",
        "      S_W+=np.outer(x_train[:,i]-m0_x,x_train[:,i]-m0_x)\n",
        "  Q=np.dot(np.linalg.inv(S_W),S_B)\n",
        "  eig_val,eig_vec=np.linalg.eig(Q)\n",
        "  sorted_index=np.argsort(eig_val)[::-1]\n",
        "  sorted_eig_val=eig_val[sorted_index]\n",
        "  sorted_eig_vec=eig_vec[:,sorted_index]\n",
        "  vec=sorted_eig_vec[:,n_components-1]\n",
        "  x_reduced=np.dot(vec.T,x)\n",
        "  return x_reduced\n",
        "\n",
        "def accuracy_fn(x_test,y_test,threshold):\n",
        "\n",
        "  y_res=[]\n",
        "  for i in range(len(x_test)):\n",
        "    if x_test[i].real<threshold:\n",
        "      y_res.append(0)\n",
        "    else:\n",
        "      y_res.append(1)\n",
        "  #accuracy\n",
        "  count=0\n",
        "  for i in range(len(y_res)):\n",
        "    if y_res[i]==y_test[i]:\n",
        "      count+=1\n",
        "  accuracy=count/len(y_test)\n",
        "  return accuracy\n",
        "\n",
        "\n",
        "def separability(x,y):\n",
        "  m0_x=0\n",
        "  m1_x=0\n",
        "  for i in range(len(y)):\n",
        "    if y[i]==1:\n",
        "      m1_x+=x[i]\n",
        "    else:\n",
        "      m0_x+=x[i]\n",
        "  m0_x=m0_x/len(y[y==0])\n",
        "  m1_x=m1_x/len(y[y==1])\n",
        "  S_B=(m1_x-m0_x)**2\n",
        "  S_W=0\n",
        "  for i in range(len(y_train)):\n",
        "    if y_train[i]==1:\n",
        "      S_W+=(x[i]-m1_x)**2\n",
        "    else:\n",
        "      S_W+=(x[i]-m0_x)**2\n",
        "  return (S_B/S_W).real\n",
        "\n",
        "\n",
        "\n",
        "\n",
        "\n",
        "\n",
        "\n",
        "\n",
        "\n",
        "\n",
        "\n"
      ],
      "metadata": {
        "id": "I9Y_jIHTvqMy"
      },
      "execution_count": null,
      "outputs": []
    },
    {
      "cell_type": "code",
      "source": [
        "#In this code i have find the number of components to which PCA should reduce the dimension for maximum separability of train data\n",
        "maximum_separability=0\n",
        "n_components=0\n",
        "for i in range(2,20):\n",
        "  x_train_reduced=PCA(X_train,i)\n",
        "  x_lda=LDA(x_train_reduced,1,x_train_reduced,y_train)\n",
        "  if separability(x_lda,y_train)>maximum_separability:\n",
        "    maximum_separability=separability(x_lda,y_train)\n",
        "    n_components=i\n",
        "print(f\"maximum separability:{maximum_separability}\")\n",
        "print(f\"n_components:{n_components}\")\n",
        "\n",
        "\n",
        "\n",
        "\n",
        "\n",
        "\n",
        "\n"
      ],
      "metadata": {
        "id": "7pwK3yl4BY11",
        "colab": {
          "base_uri": "https://localhost:8080/"
        },
        "outputId": "25ffbe35-fc45-4219-b4f2-0a3023f29d35"
      },
      "execution_count": null,
      "outputs": [
        {
          "output_type": "stream",
          "name": "stdout",
          "text": [
            "maximum separability:4.645457055803584\n",
            "n_components:18\n"
          ]
        }
      ]
    },
    {
      "cell_type": "code",
      "source": [
        "#As we can see that maximum separability is  possible with K=18\n",
        "x_train_reduced=PCA(X_train,18)\n",
        "x_lda=LDA(x_train_reduced,1,x_train_reduced,y_train)\n",
        "plt.scatter(x_lda,[0]*len(x_lda),c=y_train)\n",
        "plt.show()\n",
        "(x_lda,y_train,x_lda,y_train)\n"
      ],
      "metadata": {
        "colab": {
          "base_uri": "https://localhost:8080/",
          "height": 708
        },
        "id": "8qYB_67Ft4wW",
        "outputId": "3d0464bd-e9b6-4e59-b34f-216de218e867"
      },
      "execution_count": null,
      "outputs": [
        {
          "output_type": "display_data",
          "data": {
            "text/plain": [
              "<Figure size 640x480 with 1 Axes>"
            ],
            "image/png": "[encoded data removed]"
          },
          "metadata": {}
        },
        {
          "output_type": "execute_result",
          "data": {
            "text/plain": [
              "(array([ 777.45457597+0.j, -654.5248206 +0.j, -224.32195644+0.j,\n",
              "        -626.08083353+0.j,  679.31511337+0.j, -727.25322667+0.j,\n",
              "        -663.96688781+0.j,  776.19994977+0.j,  493.43314737+0.j,\n",
              "        -581.40113302+0.j,  733.15552173+0.j, -677.25527517+0.j,\n",
              "         521.46330256+0.j,  760.31368122+0.j, -579.33391156+0.j,\n",
              "        -453.41616573+0.j,  664.73412279+0.j, -654.03214817+0.j,\n",
              "         803.51205065+0.j, -367.99510672+0.j]),\n",
              " array([1, 0, 0, 0, 1, 0, 0, 1, 1, 0, 1, 0, 1, 1, 0, 0, 1, 0, 1, 0]),\n",
              " array([ 777.45457597+0.j, -654.5248206 +0.j, -224.32195644+0.j,\n",
              "        -626.08083353+0.j,  679.31511337+0.j, -727.25322667+0.j,\n",
              "        -663.96688781+0.j,  776.19994977+0.j,  493.43314737+0.j,\n",
              "        -581.40113302+0.j,  733.15552173+0.j, -677.25527517+0.j,\n",
              "         521.46330256+0.j,  760.31368122+0.j, -579.33391156+0.j,\n",
              "        -453.41616573+0.j,  664.73412279+0.j, -654.03214817+0.j,\n",
              "         803.51205065+0.j, -367.99510672+0.j]),\n",
              " array([1, 0, 0, 0, 1, 0, 0, 1, 1, 0, 1, 0, 1, 1, 0, 0, 1, 0, 1, 0]))"
            ]
          },
          "metadata": {},
          "execution_count": 57
        }
      ]
    },
    {
      "cell_type": "code",
      "source": [
        "#threshold=50\n",
        "\n",
        "x_test_reduced=PCA(X_test,18)\n",
        "x_test_lda=LDA(x_test_reduced,1,x_train_reduced,y_train)\n",
        "\n",
        "\n",
        "print(accuracy_fn(x_test_lda,y_test,200))\n",
        "plt.scatter(x_test_lda,[0]*len(x_test_lda),c=y_test)\n",
        "plt.axvline(x = 50, color = 'r', linestyle = '-')\n",
        "plt.show()\n",
        "\n"
      ],
      "metadata": {
        "colab": {
          "base_uri": "https://localhost:8080/",
          "height": 447
        },
        "id": "cFMNPDoyvLVJ",
        "outputId": "762c190f-e8dd-4ea8-ada7-2c94c2874c5a"
      },
      "execution_count": null,
      "outputs": [
        {
          "output_type": "stream",
          "name": "stdout",
          "text": [
            "0.8\n"
          ]
        },
        {
          "output_type": "display_data",
          "data": {
            "text/plain": [
              "<Figure size 640x480 with 1 Axes>"
            ],
            "image/png": "[encoded data removed]"
          },
          "metadata": {}
        }
      ]
    }
  ]
}